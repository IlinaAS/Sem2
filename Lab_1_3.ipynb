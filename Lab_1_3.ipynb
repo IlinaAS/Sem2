{
  "nbformat": 4,
  "nbformat_minor": 0,
  "metadata": {
    "colab": {
      "provenance": [],
      "authorship_tag": "ABX9TyMYWev0kh4VQ4TmYAYSrks0",
      "include_colab_link": true
    },
    "kernelspec": {
      "name": "python3",
      "display_name": "Python 3"
    },
    "language_info": {
      "name": "python"
    }
  },
  "cells": [
    {
      "cell_type": "markdown",
      "metadata": {
        "id": "view-in-github",
        "colab_type": "text"
      },
      "source": [
        "<a href=\"https://colab.research.google.com/github/IlinaAS/Sem2/blob/main/Lab_1_3.ipynb\" target=\"_parent\"><img src=\"https://colab.research.google.com/assets/colab-badge.svg\" alt=\"Open In Colab\"/></a>"
      ]
    },
    {
      "cell_type": "markdown",
      "source": [
        "# 1.3.1 \n",
        "Создайте для класса «студент» функцию, которая считает средний\n",
        "балл по трем дисциплинам, оценки по которым вводятся пользователям.\n",
        "Реализуйте программу двумя способами: без использования\n",
        "конструктора__init__и с ним."
      ],
      "metadata": {
        "id": "K6GvLWczTlUv"
      }
    },
    {
      "cell_type": "code",
      "source": [
        "class Student():\n",
        "  def val_discip(discip1, discip2, discip3):\n",
        "    if discip1 < 2 or discip1 > 5:\n",
        "          raise ValueError(\"Оценка должна варьироваться от 2 до 5\")\n",
        "    elif discip2 < 2 or discip2 > 5:\n",
        "          raise ValueError(\"Оценка должна варьироваться от 2 до 5\")\n",
        "    elif discip3 < 2 or discip3 > 5:\n",
        "          raise ValueError(\"Оценка должна варьироваться от 2 до 5\")\n",
        "    \n",
        "    val = (discip1 + discip2 + discip3) // 3\n",
        "    return f\"Средний балл: {val}\"\n",
        "  \n",
        "d = Student\n",
        "try:\n",
        "    print(d.val_discip(int(input(\"Введите оценку первой дисциплины: \")),\n",
        "                    int(input(\"Введите оценку второй дисциплины: \")),\n",
        "                    int(input(\"Введите оценку третьей дисциплины: \"))))\n",
        "\n",
        "except ValueError as eh:\n",
        "    print(\"Произошла ошибка!\", eh)\n",
        "except TypeError as em:\n",
        "    print(\"Произошла ошибка!\", em)\n",
        "\n",
        "  \n"
      ],
      "metadata": {
        "colab": {
          "base_uri": "https://localhost:8080/"
        },
        "id": "JHyAfvxuSKyz",
        "outputId": "6e895e08-157a-4e92-abb1-e93e83a04d77"
      },
      "execution_count": 21,
      "outputs": [
        {
          "output_type": "stream",
          "name": "stdout",
          "text": [
            "Введите оценку первой дисциплины: 3\n",
            "Введите оценку второй дисциплины: 5\n",
            "Введите оценку третьей дисциплины: 2\n",
            "Средний балл: 3\n"
          ]
        }
      ]
    },
    {
      "cell_type": "code",
      "execution_count": 3,
      "metadata": {
        "colab": {
          "base_uri": "https://localhost:8080/"
        },
        "id": "8goGzjf6Mv9l",
        "outputId": "c5c44445-5a5e-4148-ba69-46d7278762e3"
      },
      "outputs": [
        {
          "output_type": "stream",
          "name": "stdout",
          "text": [
            "Введите оценку первой дисциплины: -1\n",
            "Введите оценку второй дисциплины: 2\n",
            "Введите оценку третьей дисциплины: 4\n",
            "Произошла ошибка! Оценка должна варьироваться от 2 до 5\n"
          ]
        }
      ],
      "source": [
        "class student():\n",
        "  def __init__(self, discip1, discip2, discip3):\n",
        "    self.discip1 = discip1\n",
        "    self.discip2 = discip2\n",
        "    self.discip3 = discip3\n",
        "    if discip1 < 2 or discip1 > 5:\n",
        "          raise ValueError(\"Оценка должна варьироваться от 2 до 5\")\n",
        "    elif discip2 < 2 or discip2 > 5:\n",
        "          raise ValueError(\"Оценка должна варьироваться от 2 до 5\")\n",
        "    elif discip3 < 2 or discip3 > 5:\n",
        "          raise ValueError(\"Оценка должна варьироваться от 2 до 5\")\n",
        "    \n",
        "  def ball(self):\n",
        "    d = (self.discip1 + self.discip2 + self.discip3) // 3\n",
        "    return f\"Средний балл: {d}\"\n",
        "\n",
        "try:\n",
        "    d = student(int(input(\"Введите оценку первой дисциплины: \")),\n",
        "             int(input(\"Введите оценку второй дисциплины: \")),\n",
        "             int(input(\"Введите оценку третьей дисциплины: \")))\n",
        "    print(d.ball())\n",
        "\n",
        "except ValueError as eh:\n",
        "    print(\"Произошла ошибка!\", eh)\n",
        "except TypeError as em:\n",
        "    print(\"Произошла ошибка!\", em)"
      ]
    },
    {
      "cell_type": "markdown",
      "source": [
        "# 1.3.2 \n",
        "Создайте функцию, которая считает и выводит в файл заработную\n",
        "плату сотрудника склада в зависимости от количества отработанных дней в\n",
        "месяце. Оклад является защищаемым атрибутом класса «сотрудник». "
      ],
      "metadata": {
        "id": "56ywVBPkT029"
      }
    },
    {
      "cell_type": "code",
      "source": [
        "class Worker():\n",
        "    def __init__(self, _oklad, work_days, fact_works):  \n",
        "        self._oklad = _oklad\n",
        "        self.work_days = work_days\n",
        "        self.fact_works = fact_works\n",
        "    res = 0\n",
        "    def salary(self):\n",
        "        a = round(self._oklad / self.work_days, 2)\n",
        "        b = self.fact_works * a\n",
        "        f = open('salary_1_2_3', 'w') # Открываем файл, чтобы записать туда новые данные\n",
        "        f.write('salary = ' + str(b) + '\\n') # Записываем новые данные\n",
        "        f.close()\n",
        "        print('Code done. File saved.')\n",
        "        return  print(f'Заработная плата за этот месяц составляет: {b}')\n",
        "        \n",
        "        \n",
        "        \n",
        "        \n",
        "\n",
        "\n",
        "worker1 = Worker(int(input(\"Введите размер оклада: \")),\n",
        "                 int(input(\"Введите количество рабочих дней в месяце: \")),\n",
        "                 int(input(\"Введите количество отработанных дней в месяце: \")))\n",
        "\n",
        "worker1.salary()\n",
        "# в месяце 20 рабочих дня, и оклад за месяц составляет 40 000.\n",
        "# отработанных дней - 11\n",
        "# зп = 22 000"
      ],
      "metadata": {
        "colab": {
          "base_uri": "https://localhost:8080/"
        },
        "id": "lCwIaTE8kHg-",
        "outputId": "3872dc75-56d4-435c-8b0f-1cd320587d00"
      },
      "execution_count": 3,
      "outputs": [
        {
          "output_type": "stream",
          "name": "stdout",
          "text": [
            "Введите размер оклада: 20000\n",
            "Введите количество рабочих дней в месяце: 10\n",
            "Введите количество отработанных дней в месяце: 2\n",
            "Code done. File saved.\n",
            "Заработная плата за этот месяц составляет: 4000.0\n"
          ]
        }
      ]
    },
    {
      "cell_type": "markdown",
      "source": [
        "# 1.3.3 \n",
        "Используя результат предыдущего задания, создайте функцию\n",
        "начисления премии сотруднику, вычисляемую как 1% от уровня заработной\n",
        "платы. \n"
      ],
      "metadata": {
        "id": "5P15qIGrZmZj"
      }
    },
    {
      "cell_type": "code",
      "source": [
        "class Worker:\n",
        "    def __init__(self, _oklad, work_days, fact_works):  \n",
        "        self._oklad = _oklad\n",
        "        self.work_days = work_days\n",
        "        self.fact_works = fact_works\n",
        "    res = 0\n",
        "    def salary(self):\n",
        "        self.a = round(self._oklad / self.work_days, 2)\n",
        "        self.b = self.fact_works * self.a\n",
        "        f = open('salary_1_2_3', 'w') # Открываем файл\n",
        "        f.write('salary = ' + str(b) + '\\n') # Записываем данные\n",
        "        f.close()\n",
        "        print('Code done. File saved.')\n",
        "        print(f'Заработная плата за этот месяц составляет: {self.b}')\n",
        "        return self.b\n",
        "    def award(self):\n",
        "        self.aw = self.b * 0.01\n",
        "        self.j = self.b + self.aw\n",
        "        f = open('salary_1_2_3', 'w')\n",
        "        f.write('salary + award = ' + str(self.j) + '\\n') \n",
        "        f.close()\n",
        "        print('Code done. File saved.')\n",
        "        return print(f'Заработная плата за этот месяц составляет: {self.j}')\n",
        "        \n",
        "        \n",
        "        \n",
        "\n",
        "\n",
        "worker1 = Worker(int(input(\"Введите размер оклада: \")),\n",
        "                 int(input(\"Введите количество рабочих дней в месяце: \")),\n",
        "                 int(input(\"Введите количество отработанных дней в месяце: \")))\n",
        "\n",
        "worker1.salary()\n",
        "worker1.award()\n",
        "# в месяце 20 рабочих дня, и оклад за месяц составляет 40 000.\n",
        "# отработанных дней - 11\n",
        "# зп = 22 000"
      ],
      "metadata": {
        "colab": {
          "base_uri": "https://localhost:8080/"
        },
        "id": "hvB0c7iNMU2I",
        "outputId": "2fa2c47d-7e1a-4eef-b774-5dd367c4ec31"
      },
      "execution_count": null,
      "outputs": [
        {
          "output_type": "stream",
          "name": "stdout",
          "text": [
            "Введите размер оклада: 40000\n",
            "Введите количество рабочих дней в месяце: 20\n",
            "Введите количество отработанных дней в месяце: 11\n",
            "Code done. File saved.\n",
            "Заработная плата за этот месяц составляет: 22000.0\n",
            "Code done. File saved.\n",
            "Заработная плата за этот месяц составляет: 22220.0\n"
          ]
        }
      ]
    },
    {
      "cell_type": "markdown",
      "source": [
        "# 1.3.4 \n",
        "Модифицируйте предыдущую программу, позволяющую вычислять\n",
        "заработную плату, премию для сотрудников и определять величину общего\n",
        "фонда заработной платы как сумму заработной платы и премий, деленную на\n",
        "коэффициент 0,7. Данные о сотрудниках вводятся через цикл while и\n",
        "записываются в соответствующий файл .txt или .xlsx."
      ],
      "metadata": {
        "id": "v2YsZzjzl-LY"
      }
    },
    {
      "cell_type": "code",
      "source": [
        "class Worker:\n",
        "    a = 0\n",
        "    def __init__(self):  \n",
        "        self._oklad = float(input('Введите размер оклада: '))\n",
        "        self.work_days = int(input('EВведите количество рабочих дней в месяце: '))\n",
        "        self.fact_work = int(input('Введите количество отработанных дней в месяце: '))\n",
        "    def salary(self):\n",
        "        self.a = round(self._oklad / self.work_days * self.fact_work, 2)\n",
        "        f = open('salary_1_2_3', 'w') # Открываем файл\n",
        "        f.write('salary = ' + str(self.a) + '\\n') # Записываем данные\n",
        "        f.close()\n",
        "        print('Code done. File saved.')\n",
        "        print(f'Заработная плата за этот месяц составляет: {self.a}')\n",
        "        return self.a\n",
        "    def award(self):\n",
        "        i = self.salary()\n",
        "        self.a += (self.a * 0.01)\n",
        "        f = open('salary_1_2_3', 'w')\n",
        "        f.write('salary + award = ' + str(self.a) + '\\n') \n",
        "        f.close()\n",
        "        print('Code done. File saved.')\n",
        "        return self.a\n",
        "        \n",
        "\n",
        "q = int(input('Введите количество работников: '))\n",
        "x = 0\n",
        "open('salary_funds', 'w')\n",
        "while x < q:\n",
        "        x += 1\n",
        "        h = Worker()\n",
        "        a = h.award()\n",
        "        listing = open('salary_funds', 'a')\n",
        "        listing.write(str(a) + '\\n')\n",
        "        listing.close()\n",
        "        del h \n",
        "\n",
        "def salary_f(filename):\n",
        "        resource = open(filename, 'r')\n",
        "        a = resource.read()\n",
        "        open(filename).read().split('\\n')\n",
        "\n",
        "        result = []\n",
        "        with open(filename) as h:\n",
        "          for line in h:\n",
        "            result.append([float(x) for x in line.split()])\n",
        "\n",
        "        res1 = []\n",
        "        for x in result:\n",
        "          for y in x:\n",
        "            res1.append(y)\n",
        "        sum_salary = sum(res1)\n",
        "\n",
        "        listing = open('salary_funds', 'a')\n",
        "        listing.write('sum_salary = ' + str(sum_salary) + '\\n')\n",
        "        listing.close()\n",
        "        return sum_salary\n",
        "\n",
        "test = salary_f('salary_funds')\n",
        "\n",
        "print('sum_salary = ', test)\n",
        "\n"
      ],
      "metadata": {
        "id": "aYuiCpDBeKnL",
        "colab": {
          "base_uri": "https://localhost:8080/"
        },
        "outputId": "bb5afb2a-10be-42f7-b2b0-bab0de02e27d"
      },
      "execution_count": null,
      "outputs": [
        {
          "output_type": "stream",
          "name": "stdout",
          "text": [
            "Введите количество работников: 3\n",
            "Введите размер оклада: 20000\n",
            "EВведите количество рабочих дней в месяце: 20\n",
            "Введите количество отработанных дней в месяце: 11\n",
            "Code done. File saved.\n",
            "Заработная плата за этот месяц составляет: 11000.0\n",
            "Code done. File saved.\n",
            "Введите размер оклада: 30000\n",
            "EВведите количество рабочих дней в месяце: 20\n",
            "Введите количество отработанных дней в месяце: 18\n",
            "Code done. File saved.\n",
            "Заработная плата за этот месяц составляет: 27000.0\n",
            "Code done. File saved.\n",
            "Введите размер оклада: 35000\n",
            "EВведите количество рабочих дней в месяце: 20\n",
            "Введите количество отработанных дней в месяце: 15\n",
            "Code done. File saved.\n",
            "Заработная плата за этот месяц составляет: 26250.0\n",
            "Code done. File saved.\n",
            "sum_salary =  64892.5\n"
          ]
        }
      ]
    },
    {
      "cell_type": "markdown",
      "source": [
        "# 1.3.5 \n",
        "Используя технологию перегрузки операторов, измените\n",
        "__truediv__(деление) так, чтобы числителем был знаменатель и наоборот.\n",
        "Аналогичные процедуры осуществите для операторов\n",
        "__floordiv__(целочисленное деление), __mod__(остаток от деления). Числа\n",
        "вводят пользователи. Предусмотрите отработку исключений."
      ],
      "metadata": {
        "id": "42Esi6B594cE"
      }
    },
    {
      "cell_type": "code",
      "source": [
        "a = int(input('Введите 1 число: '))\n",
        "b = int(input('Введите 2 число: '))\n",
        "class Trial:\n",
        "  def __init__(self,a):\n",
        "    self.t = float(a)\n",
        "  def __truediv__(self, b):\n",
        "    return b/self.t\n",
        "  def __floordiv__(self, c):\n",
        "    return float(c // self.t)\n",
        "  def __mod__(self, d):\n",
        "    return float(d % self.t)\n",
        "\n",
        "t = Trial(a)\n",
        "print(t / b)\n",
        "print(t // b)\n",
        "print(t % b)"
      ],
      "metadata": {
        "colab": {
          "base_uri": "https://localhost:8080/"
        },
        "id": "FWeHhTlC-Ham",
        "outputId": "2a3cd018-0db9-4a08-bf85-60f7945d6d2b"
      },
      "execution_count": null,
      "outputs": [
        {
          "output_type": "stream",
          "name": "stdout",
          "text": [
            "Введите 1 число: 6\n",
            "Введите 2 число: 8\n",
            "1.3333333333333333\n",
            "1.0\n",
            "2.0\n"
          ]
        }
      ]
    }
  ]
}