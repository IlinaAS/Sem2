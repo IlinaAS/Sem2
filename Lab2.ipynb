{
  "nbformat": 4,
  "nbformat_minor": 0,
  "metadata": {
    "colab": {
      "provenance": [],
      "authorship_tag": "ABX9TyOLa6lfXc08CBFCsMNnMe45",
      "include_colab_link": true
    },
    "kernelspec": {
      "name": "python3",
      "display_name": "Python 3"
    },
    "language_info": {
      "name": "python"
    }
  },
  "cells": [
    {
      "cell_type": "markdown",
      "metadata": {
        "id": "view-in-github",
        "colab_type": "text"
      },
      "source": [
        "<a href=\"https://colab.research.google.com/github/IlinaAS/Sem2/blob/main/Lab2.ipynb\" target=\"_parent\"><img src=\"https://colab.research.google.com/assets/colab-badge.svg\" alt=\"Open In Colab\"/></a>"
      ]
    },
    {
      "cell_type": "markdown",
      "source": [
        "# Упражнения для самостоятельного выполнения по теме «Наследование»"
      ],
      "metadata": {
        "id": "1TTBG17MkG0P"
      }
    },
    {
      "cell_type": "markdown",
      "source": [
        "В рамках приложения разработать класс В – наследник класса А (задание\n",
        "2) с полем d и свойством с2. Свойство с2 – результат вычисления\n",
        "выражения над полями a, b, d. В теле свойства использовать управляющий\n",
        "оператор (см. вариант в таблице 2.2). У класса А создать конструктор,\n",
        "инициализирующий его поля. Для класса В определить 2 конструктора:\n",
        "один – наследуется от конструктора класса А, второй – собственный. В\n",
        "теле программы создать объекты классов А и В, продемонстрировав\n",
        "работу всех конструкторов. Вывести значения свойства на экран. "
      ],
      "metadata": {
        "id": "ozbw9Oy_aQbn"
      }
    },
    {
      "cell_type": "code",
      "execution_count": null,
      "metadata": {
        "colab": {
          "base_uri": "https://localhost:8080/"
        },
        "id": "tTzGhxMRZ_dO",
        "outputId": "036907f3-3377-453f-e879-bd6c277daca3"
      },
      "outputs": [
        {
          "output_type": "stream",
          "name": "stdout",
          "text": [
            "34\n",
            "Process deleted.\n"
          ]
        }
      ],
      "source": [
        "class A():\n",
        "  def __init__(self, a, b):\n",
        "    self.a = a\n",
        "    self.b = b\n",
        "\n",
        "class B(A):\n",
        "  def __init__(self, a, b, d):\n",
        "    A.__init__(self, a, b)\n",
        "    self.d = d\n",
        "\n",
        "  def prov(self):\n",
        "    if self.a >= self.b and self.a > self.d:\n",
        "      c2 = self.a + self.b + self.d\n",
        "      print(c2)\n",
        "    else:\n",
        "      c2 = self.a - self.b - self.d\n",
        "      print('\\n'.c2)\n",
        "    \n",
        "\n",
        "  def __del__(self):\n",
        "      print('Process deleted.')\n",
        "    \n",
        "\n",
        "obj = B(24, 10, 0)\n",
        "obj.prov()\n"
      ]
    },
    {
      "cell_type": "markdown",
      "source": [
        "# Упражнения для всех вариантов \n"
      ],
      "metadata": {
        "id": "azaH_G5GkDpK"
      }
    },
    {
      "cell_type": "markdown",
      "source": [
        "1. Создайте класс «зарплата», который вычисляет сумму зарплаты в зависимости\n",
        "от тарифной ставки и числа отработанных дней. Расширьте метод начислением\n",
        "процентов в зависимости от объема продаж."
      ],
      "metadata": {
        "id": "Z-5epoAIj4xg"
      }
    },
    {
      "cell_type": "code",
      "source": [
        "class Salary():\n",
        "  def __init__(self, tariff, work_days, volume):\n",
        "    self.tariff = tariff\n",
        "    self.work_days = work_days\n",
        "    self.volume = volume\n",
        "  \n",
        "  def calc(self):\n",
        "    zp = self.tariff * self.work_days\n",
        "    if self.volume >= 50000:\n",
        "        c = zp + zp * 0.1 - (((zp + zp * 0.1) / 100) * 13) \n",
        "    elif self.volume >= 100000:\n",
        "        c = zp + zp * 0.15 - (((zp + zp * 0.15) / 100) * 13)\n",
        "    elif self.volume >= 150000:\n",
        "        c = zp + zp * 0.2 - (((zp + zp * 0.2) / 100) * 13)\n",
        "\n",
        "    if c < 0 :\n",
        "      raise ValueError\n",
        "    else:\n",
        "      print(f'Зарплата сотрудника с учетом премии составляет: {c}')\n",
        "\n",
        "\n",
        "try:\n",
        "    a = Salary(int(input('Введите тарифную ставку: ')),\n",
        "              int(input('Введите количество отработанных дней: ')),\n",
        "              int(input('Введите объем продаж сотрудника: ')))\n",
        "    a.calc()\n",
        "\n",
        "except ValueError:\n",
        "    print(\"Произошла ошибка! Значение должно быть больше нуля\")\n",
        "except TypeError:\n",
        "    print(\"Произошла ошибка! Введите число, а не букву!\")"
      ],
      "metadata": {
        "colab": {
          "base_uri": "https://localhost:8080/"
        },
        "id": "ILp_1o3PkAhN",
        "outputId": "605d86ff-65a0-410c-c0b8-c62a510c3d93"
      },
      "execution_count": 13,
      "outputs": [
        {
          "output_type": "stream",
          "name": "stdout",
          "text": [
            "Введите тарифную ставку: 10000\n",
            "Введите количество отработанных дней: 10\n",
            "Введите объем продаж сотрудника: 2000000\n",
            "Зарплата сотрудника с учетом премии составляет: 95700.0\n"
          ]
        }
      ]
    },
    {
      "cell_type": "markdown",
      "source": [
        "2. Переопределите метод начисления зарплаты: в случае, если объем продаж в\n",
        "месяц превысил 1 000 000, проценты добавляются к зарплате, в противном\n",
        "случае – вычитаются. \n"
      ],
      "metadata": {
        "id": "3ujRTi6_ppe_"
      }
    },
    {
      "cell_type": "code",
      "source": [
        "class Salary():\n",
        "  def __init__(self, tariff, work_days, volume):\n",
        "    self.tariff = tariff\n",
        "    self.work_days = work_days\n",
        "    self.volume = volume\n",
        "  def calc(self):\n",
        "    zp = self.tariff * self.work_days\n",
        "    if self.volume >1000000:\n",
        "        c = zp + zp / self.volume * 100\n",
        "    else:\n",
        "        c = zp - zp / self.volume * 100\n",
        "        \n",
        "    print(f'Зарплата сотрудника с учетом премии составляет: {c}')\n",
        "\n",
        "\n",
        "\n",
        "a = Salary(int(input('Введите тарифную ставку: ')),\n",
        "          int(input('Введите количество отработанных дней: ')),\n",
        "          int(input('Введите объем продаж сотрудника: ')))\n",
        "a.calc()\n"
      ],
      "metadata": {
        "colab": {
          "base_uri": "https://localhost:8080/"
        },
        "id": "eXP7yb-sqGfk",
        "outputId": "a8c5fe1f-1256-489a-e582-514633902ff0"
      },
      "execution_count": null,
      "outputs": [
        {
          "output_type": "stream",
          "name": "stdout",
          "text": [
            "Введите тарифную ставку: 20000\n",
            "Введите количество отработанных дней: 10\n",
            "Введите объем продаж сотрудника: 1500000\n",
            "Зарплата сотрудника с учетом премии составляет: 200013.33333333334\n"
          ]
        }
      ]
    },
    {
      "cell_type": "markdown",
      "source": [
        "3. Создайте для класса «сотрудники» абстрактный метод начисления зарплаты.\n",
        "Создайте два класса-наследника: сотрудник отдела продаж и сотрудник склада.\n",
        "Для первого класса начисление происходит аналогично заданию 1, а для второго\n",
        "–в зависимости от количества отработанных дней."
      ],
      "metadata": {
        "id": "rzdO7iWyrTfw"
      }
    },
    {
      "cell_type": "code",
      "source": [
        "from abc import ABC, abstractmethod  # импорт модуля abc\n",
        "\n",
        "class Sotrydniki(ABC):  # Sotrydniki абстрактный класс\n",
        "  @abstractmethod\n",
        "  def calc_salary(self):\n",
        "      pass\n",
        "\n",
        "class Worker_sales_department(Sotrydniki):\n",
        "  def __init__(self, name, tariff, sales):\n",
        "    self.name = name\n",
        "    self.tariff = tariff\n",
        "    self.sales = sales\n",
        "\n",
        "  def calc_salary(self):\n",
        "    zp = self.tariff + self.sales * 0.5\n",
        "    return zp\n",
        "\n",
        "\n",
        "class Worker_storeroom(Sotrydniki):\n",
        "  def __init__(self, name, tariff, work_days):\n",
        "    self.name = name\n",
        "    self.tariff = tariff\n",
        "    self.work_days = work_days\n",
        "\n",
        "  def calc_salary(self):\n",
        "    zp = self.tariff * self.work_days\n",
        "    return zp\n",
        "\n",
        "sotr1 = Worker_sales_department('Примеров', 40000, 250000)\n",
        "sotr2 = Worker_storeroom('Образцов', 2500, 22)\n",
        "\n",
        "print(sotr1.calc_salary())\n",
        "print(sotr2.calc_salary())"
      ],
      "metadata": {
        "colab": {
          "base_uri": "https://localhost:8080/"
        },
        "id": "qIEhiJr6rgLc",
        "outputId": "760b4c62-cd23-42ce-a315-199768789ca7"
      },
      "execution_count": null,
      "outputs": [
        {
          "output_type": "stream",
          "name": "stdout",
          "text": [
            "165000.0\n",
            "55000\n"
          ]
        }
      ]
    },
    {
      "cell_type": "markdown",
      "source": [
        "4. Имеется класс «мебель». Создайте класс «корпусная мебель», «мягкая мебель» и\n",
        "«кухонная мебель». Определите атрибуты и методы родительского класса и\n",
        "классов-наследников."
      ],
      "metadata": {
        "id": "-YrdCLQFP904"
      }
    },
    {
      "cell_type": "code",
      "source": [
        "class Furniture():\n",
        "  def __init__(self, color, material):\n",
        "    self.color = color\n",
        "    self.material = material\n",
        "\n",
        "\n",
        "class Carcass_furniture(Furniture):\n",
        "  def __init__(self, color, material, tip):\n",
        "    Furniture.__init__(self, color, material)\n",
        "    self.tip = tip\n",
        "  \n",
        "  def get_tip(self):\n",
        "    return self.tip\n",
        "\n",
        "class Soft_furniture(Furniture):\n",
        "  def __init__(self, color, material, tip):\n",
        "    Furniture.__init__(self, color, material)\n",
        "    self.tip = tip\n",
        "  \n",
        "  def get_tip(self):\n",
        "    return self.tip\n",
        "\n",
        "class Kitchen_furniture(Furniture):\n",
        "  def __init__(self, color, material, tip):\n",
        "    Furniture.__init__(self, color, material)\n",
        "    self.tip = tip\n",
        "  \n",
        "  def get_tip(self):\n",
        "    return self.tip\n",
        "\n",
        "room1 = Carcass_furniture('бежевый', 'дерево', 'кровать')\n",
        "room2 = Soft_furniture('розовый', 'искуственная кожа', 'диван')\n",
        "room3 = Kitchen_furniture('серый', 'ДСП', 'столешница')\n",
        "\n",
        "print(room1.get_tip())\n",
        "print(room2.get_tip())\n",
        "print(room3.get_tip())"
      ],
      "metadata": {
        "colab": {
          "base_uri": "https://localhost:8080/"
        },
        "id": "ekMLAg35QNVZ",
        "outputId": "81ad96b4-d1a6-45fb-b4d6-94afa2f4045d"
      },
      "execution_count": null,
      "outputs": [
        {
          "output_type": "stream",
          "name": "stdout",
          "text": [
            "кровать\n",
            "диван\n",
            "столешница\n"
          ]
        }
      ]
    },
    {
      "cell_type": "markdown",
      "source": [
        "6. Создайте приложение, в котором необходимо разработать базовый класс man.\n",
        "Объекты этого класса содержат справочную информацию о конкретном\n",
        "человеке (фамилию, инициалы, телефон, адрес, возраст). Создайте два\n",
        "производных от него класса: manager и secretary. Объекты класса manager\n",
        "дополнительно включают номер отдела и количество подчиненных. Объекты\n",
        "класса manager дополнительно включают номер отдела и количество\n",
        "подчиненных. Объекты класса secretary дополнительно включают фамилию\n",
        "начальника. Данные о менеджерах и секретарях введите с клавиатуры и выведите\n",
        "на экран дисплея. \n"
      ],
      "metadata": {
        "id": "IRFw_jp5nGdz"
      }
    },
    {
      "cell_type": "code",
      "source": [
        "class man():\n",
        "  def __init__(self, surname, initials, telephone, address, age):\n",
        "    self.surname = surname\n",
        "    self.initials = initials\n",
        "    self.telephone = telephone\n",
        "    self.address = address\n",
        "    self.age = age\n",
        "\n",
        "class manager(man):\n",
        "    def __init__(self, surname, initials, telephone, address, age, department_number, quantity):\n",
        "      man.__init__(self, surname, initials, telephone, address, age)\n",
        "      self.department_number = department_number\n",
        "      self.quantity = quantity\n",
        "    def info(self):\n",
        "      print(f'Фамилия менеджера: {self.surname} \\n' \\\n",
        "            f'Инициалы менеджера: {self.initials} \\n' \\\n",
        "            f'Телефон менеджера: {self.telephone} \\n' \\\n",
        "            f'Адрес менеджера: {self.address} \\n' \\\n",
        "            f'Возраст менеджера: {self.age} \\n' \\\n",
        "            f'Номер отдела менеджера: {self.department_number} \\n' \\\n",
        "            f'Количество подчиненных менеджера: {self.quantity}')\n",
        "\n",
        "\n",
        "class secretary(man):\n",
        "    def __init__(self, surname, initials, telephone, address, age, surname_chief):\n",
        "      man.__init__(self, surname, initials, telephone, address, age)\n",
        "      self.surname_chief = surname_chief\n",
        "    def info(self):\n",
        "      print(f'Фамилия секретаря: {self.surname} \\n' \\\n",
        "            f'Инициалы секретаря: {self.initials} \\n' \\\n",
        "            f'Телефон секретаря: {self.telephone} \\n' \\\n",
        "            f'Адрес секретаря: {self.address} \\n' \\\n",
        "            f'Возраст секретаря: {self.age} \\n' \\\n",
        "            f'Фамилия начальника: {self.surname_chief} \\n')\n",
        "      \n",
        "a = manager(str(input('Введите фамилию менеджера: ')),\n",
        "          str(input('Введите инициалы менеджера: ')),\n",
        "          int(input('Введите телефон менеджера: ')),\n",
        "          str(input('Введите адрес менеджера: ')),\n",
        "          str(input('Введите возраст менеджера: ')),\n",
        "          int(input('Введите номер отдела менеджера: ')),\n",
        "          int(input('Введите количество подчиненных менеджера: ')))\n",
        "print('')\n",
        "a.info()\n",
        "\n",
        "print('-'*20)\n",
        "\n",
        "b = secretary(str(input('Введите фамилию секретаря: ')),\n",
        "          str(input('Введите инициалы секретаря: ')),\n",
        "          int(input('Введите телефон секретаря: ')),\n",
        "          str(input('Введите адрес секретаря: ')),\n",
        "          str(input('Введите возраст секретаря: ')),\n",
        "          str(input('Введите фамилию начальника: ')))\n",
        "print('')\n",
        "b.info()"
      ],
      "metadata": {
        "id": "oRGR4u2gnMDj",
        "colab": {
          "base_uri": "https://localhost:8080/"
        },
        "outputId": "f34b1f82-be4f-4db7-e0df-e53c4940aa3b"
      },
      "execution_count": null,
      "outputs": [
        {
          "output_type": "stream",
          "name": "stdout",
          "text": [
            "Введите фамилию менеджера: dfghjk\n",
            "Введите инициалы менеджера: hg\n",
            "Введите телефон менеджера: 123456789\n",
            "Введите адрес менеджера: dfghj\n",
            "Введите возраст менеджера: 66\n",
            "Введите номер отдела менеджера: 66\n",
            "Введите количество подчиненных менеджера: 123456789\n",
            "\n",
            "Фамилия менеджера: dfghjk \n",
            "Инициалы менеджера: hg \n",
            "Телефон менеджера: 123456789 \n",
            "Адрес менеджера: dfghj \n",
            "Возраст менеджера: 66 \n",
            "Номер отдела менеджера: 66 \n",
            "Количество подчиненных менеджера: 123456789\n",
            "--------------------\n",
            "Введите фамилию секретаря: jkllkj\n",
            "Введите инициалы секретаря: jh\n",
            "Введите телефон секретаря: 1234567890\n",
            "Введите адрес секретаря: njnn\n",
            "Введите возраст секретаря: 0\n",
            "Введите фамилию начальника: hjkl\n",
            "\n",
            "Фамилия секретаря: jkllkj \n",
            "Инициалы секретаря: jh \n",
            "Телефон секретаря: 1234567890 \n",
            "Адрес секретаря: njnn \n",
            "Возраст секретаря: 0 \n",
            "Фамилия начальника: hjkl \n",
            "\n"
          ]
        }
      ]
    }
  ]
}