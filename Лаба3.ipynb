{
  "nbformat": 4,
  "nbformat_minor": 0,
  "metadata": {
    "colab": {
      "provenance": [],
      "authorship_tag": "ABX9TyNgCKnuObEm2/lncvs6zSh8",
      "include_colab_link": true
    },
    "kernelspec": {
      "name": "python3",
      "display_name": "Python 3"
    },
    "language_info": {
      "name": "python"
    }
  },
  "cells": [
    {
      "cell_type": "markdown",
      "metadata": {
        "id": "view-in-github",
        "colab_type": "text"
      },
      "source": [
        "<a href=\"https://colab.research.google.com/github/IlinaAS/Sem2/blob/main/%D0%9B%D0%B0%D0%B1%D0%B03.ipynb\" target=\"_parent\"><img src=\"https://colab.research.google.com/assets/colab-badge.svg\" alt=\"Open In Colab\"/></a>"
      ]
    },
    {
      "cell_type": "markdown",
      "source": [
        "# Упражнения для самостоятельного выполнения по теме «Инкапсуляция»\n",
        "Каждый разрабатываемый класс должен, как правило, содержать следующие элементы: скрытые поля, конструкторы с параметрами и без параметров, методы, свойства. Методы и свойства должны обеспечивать непротиворечивый, полный, минимальный и удобный интерфейс класса. При возникновении ошибок должны выбрасываться исключения. В программе должна выполняться проверка всех разработанных элементов класса."
      ],
      "metadata": {
        "id": "95ii36rV1rB4"
      }
    },
    {
      "cell_type": "markdown",
      "source": [
        "Вариант №9 Составить описание класса для представления времени. Предусмотреть возможности установки времени и изменения его отдельных полей (час, минута, секунда) с проверкой допустимости вводимых значений. В случае недопустимых значений полей выбрасываются исключения. Создать методы изменения времени на заданное количество часов, минут и секунд. Написать программу, демонстрирующую все разработанные элементы класса."
      ],
      "metadata": {
        "id": "CRlU4A4t1xmw"
      }
    },
    {
      "cell_type": "code",
      "execution_count": 5,
      "metadata": {
        "colab": {
          "base_uri": "https://localhost:8080/"
        },
        "id": "xIyhoXhxqu_m",
        "outputId": "f7e8695c-eafb-4c60-be96-7d5c58464793"
      },
      "outputs": [
        {
          "output_type": "stream",
          "name": "stdout",
          "text": [
            "Введите часы: 22\n",
            "Введите минуты: 21\n",
            "Введите секунды: 32\n",
            "Текущее время: 22:21:32\n",
            "Время после добавления 2 часов: 00:21:32\n",
            "Время после добавления 30 минут: 00:51:32\n",
            "Время после добавления 45 секунд: 00:52:17\n"
          ]
        }
      ],
      "source": [
        "class Time:\n",
        "    def __init__(self, hour=0, minute=0, second=0):\n",
        "        if 0 <= hour <= 23 and 0 <= minute <= 59 and 0 <= second <= 59:\n",
        "            self._hour = hour\n",
        "            self._minute = minute\n",
        "            self._second = second\n",
        "        else:\n",
        "            raise ValueError(\"Недопустимое значение времени\")\n",
        "\n",
        "    def __str__(self):\n",
        "        return \"{:02d}:{:02d}:{:02d}\".format(self._hour, self._minute, self._second)\n",
        "\n",
        "    def add_hours(self, hours):\n",
        "        self._hour = (self._hour + hours) % 24\n",
        "\n",
        "    def add_minutes(self, minutes):\n",
        "        total_minutes = self._hour * 60 + self._minute + minutes\n",
        "        self._hour = (total_minutes // 60) % 24\n",
        "        self._minute = total_minutes % 60\n",
        "\n",
        "    def add_seconds(self, seconds):\n",
        "        total_seconds = self._hour * 3600 + self._minute * 60 + self._second + seconds\n",
        "        self._hour = (total_seconds // 3600) % 24\n",
        "        self._minute = (total_seconds // 60) % 60\n",
        "        self._second = total_seconds % 60\n",
        "\n",
        "\n",
        "\n",
        "# Пример использования класса\n",
        "try:\n",
        "    h = int(input(\"Введите часы: \"))\n",
        "    m = int(input(\"Введите минуты: \"))\n",
        "    s = int(input(\"Введите секунды: \"))\n",
        "    t = Time(h, m, s)\n",
        "    print(\"Текущее время:\", t)\n",
        "\n",
        "    t.add_hours(2)\n",
        "    print(\"Время после добавления 2 часов:\", t)\n",
        "\n",
        "    t.add_minutes(30)\n",
        "    print(\"Время после добавления 30 минут:\", t)\n",
        "\n",
        "    t.add_seconds(45)\n",
        "    print(\"Время после добавления 45 секунд:\", t)\n",
        "\n",
        "\n",
        "except ValueError as e:\n",
        "    print(\"Error:\", e)"
      ]
    }
  ]
}