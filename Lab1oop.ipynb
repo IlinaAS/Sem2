{
  "nbformat": 4,
  "nbformat_minor": 0,
  "metadata": {
    "colab": {
      "provenance": [],
      "authorship_tag": "ABX9TyOPqtMKHgkWnd9su/T26Pxd",
      "include_colab_link": true
    },
    "kernelspec": {
      "name": "python3",
      "display_name": "Python 3"
    },
    "language_info": {
      "name": "python"
    }
  },
  "cells": [
    {
      "cell_type": "markdown",
      "metadata": {
        "id": "view-in-github",
        "colab_type": "text"
      },
      "source": [
        "<a href=\"https://colab.research.google.com/github/IlinaAS/Sem2/blob/main/Lab1oop.ipynb\" target=\"_parent\"><img src=\"https://colab.research.google.com/assets/colab-badge.svg\" alt=\"Open In Colab\"/></a>"
      ]
    },
    {
      "cell_type": "code",
      "execution_count": null,
      "metadata": {
        "id": "UghwiaxPtX-J",
        "colab": {
          "base_uri": "https://localhost:8080/"
        },
        "outputId": "060b6a79-47ba-418d-f441-4aeef5330bb3"
      },
      "outputs": [
        {
          "output_type": "stream",
          "name": "stdout",
          "text": [
            "Dividing: 25\n",
            "Reducing: 15\n",
            "Process deleted\n"
          ]
        }
      ],
      "source": [
        "class A:\n",
        "\n",
        "  __a = float()\n",
        "  __b = float()\n",
        "  def __init__(self, __a, __b):\n",
        "    self.a = __a\n",
        "    self.b = __b\n",
        "\n",
        "  def divide(self):\n",
        "\n",
        "    c = self.a + self.b\n",
        "    return c\n",
        "\n",
        "  def reduce(self):\n",
        "    \n",
        "    c = self.a - self.b\n",
        "    return c\n",
        "\n",
        "  def __del__(self):\n",
        "    print('Process deleted')\n",
        "\n",
        "c1 = A(20, 5)\n",
        "print(f'Dividing: {c1.divide()}')\n",
        "print(f'Reducing: {c1.reduce()}')"
      ]
    },
    {
      "cell_type": "code",
      "source": [
        "class Programm():\n",
        "  \"\"\"\n",
        "  Class that calling class \"A()\"\n",
        "  \"\"\"\n",
        "  def __init__(self):\n",
        "    c2 = A(20, 5)\n",
        "    print(c2.divide())\n",
        "    print(c2.reduce())\n",
        "\n",
        "if __name__ == \"__main__\":\n",
        "  f1 = Programm()\n",
        "  del f1"
      ],
      "metadata": {
        "colab": {
          "base_uri": "https://localhost:8080/"
        },
        "id": "wZp6JBm1zIi3",
        "outputId": "dd21bdf1-2973-4570-99ef-e1ed449ca4db"
      },
      "execution_count": null,
      "outputs": [
        {
          "output_type": "stream",
          "name": "stdout",
          "text": [
            "25\n",
            "15\n",
            "Process deleted\n"
          ]
        }
      ]
    }
  ]
}