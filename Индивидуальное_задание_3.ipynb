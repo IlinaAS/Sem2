{
  "nbformat": 4,
  "nbformat_minor": 0,
  "metadata": {
    "colab": {
      "provenance": [],
      "authorship_tag": "ABX9TyNsuC0mDLE7xuJ+JrnrCcTf",
      "include_colab_link": true
    },
    "kernelspec": {
      "name": "python3",
      "display_name": "Python 3"
    },
    "language_info": {
      "name": "python"
    }
  },
  "cells": [
    {
      "cell_type": "markdown",
      "metadata": {
        "id": "view-in-github",
        "colab_type": "text"
      },
      "source": [
        "<a href=\"https://colab.research.google.com/github/IlinaAS/Sem2/blob/main/%D0%98%D0%BD%D0%B4%D0%B8%D0%B2%D0%B8%D0%B4%D1%83%D0%B0%D0%BB%D1%8C%D0%BD%D0%BE%D0%B5_%D0%B7%D0%B0%D0%B4%D0%B0%D0%BD%D0%B8%D0%B5_3.ipynb\" target=\"_parent\"><img src=\"https://colab.research.google.com/assets/colab-badge.svg\" alt=\"Open In Colab\"/></a>"
      ]
    },
    {
      "cell_type": "markdown",
      "source": [
        "Задача 1"
      ],
      "metadata": {
        "id": "4z_zfY-VEohm"
      }
    },
    {
      "cell_type": "code",
      "execution_count": 32,
      "metadata": {
        "colab": {
          "base_uri": "https://localhost:8080/"
        },
        "id": "XzvjDN8kEU5f",
        "outputId": "e528305e-befa-4318-ca0f-3a19dad86035"
      },
      "outputs": [
        {
          "output_type": "stream",
          "name": "stdout",
          "text": [
            "Наименование продукта: мясо \n",
            "Цена продукта: 1200 \n",
            "Вес продукта в кг: 2 \n",
            "Количество продукта: 3 \n",
            "Цена всей покупки: 3600\n",
            "Наименование продукта: молоко \n",
            "Цена продукта: 60 \n",
            "Вес продукта в кг: 1 \n",
            "Количество продукта: 4 \n",
            "Цена всей покупки: 240\n",
            "Наименование продукта: гречка \n",
            "Цена продукта: 35 \n",
            "Вес продукта в кг: 1 \n",
            "Количество продукта: 12 \n",
            "Цена всей покупки: 420\n"
          ]
        }
      ],
      "source": [
        "class Product():\n",
        "  def __init__(self, name, price, wt):\n",
        "    self.name = name\n",
        "    self.price = price\n",
        "    self.wt = wt\n",
        "  \n",
        "\n",
        "class Buy(Product):\n",
        "  def __init__(self, name, price, wt, quantity):\n",
        "    Product.__init__(self, name, price, wt)\n",
        "    self.quantity = quantity\n",
        "    self.t_price = quantity * price\n",
        "\n",
        "class Check(Buy):\n",
        "  def __init__(self, name, price, wt, quantity):\n",
        "    Buy.__init__(self, name, price, wt, quantity)\n",
        "  \n",
        "  def info(self):\n",
        "    print(f'Наименование продукта: {self.name} \\n' \\\n",
        "          f'Цена продукта: {self.price} \\n' \\\n",
        "          f'Вес продукта в кг: {self.wt} \\n' \\\n",
        "          f'Количество продукта: {self.quantity} \\n' \\\n",
        "          f'Цена всей покупки: {self.t_price}')\n",
        "\n",
        "\n",
        "products = [Check('мясо', 1200, 2, 3),\n",
        "          Check('молоко', 60, 1, 4),\n",
        "          Check('гречка', 35, 1, 12)]\n",
        "    \n",
        "for product in products:\n",
        "    product.info()\n"
      ]
    }
  ]
}