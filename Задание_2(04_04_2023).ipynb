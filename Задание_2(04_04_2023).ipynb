{
  "nbformat": 4,
  "nbformat_minor": 0,
  "metadata": {
    "colab": {
      "provenance": [],
      "authorship_tag": "ABX9TyMWBaErEw/l6yuVES77BVOz",
      "include_colab_link": true
    },
    "kernelspec": {
      "name": "python3",
      "display_name": "Python 3"
    },
    "language_info": {
      "name": "python"
    }
  },
  "cells": [
    {
      "cell_type": "markdown",
      "metadata": {
        "id": "view-in-github",
        "colab_type": "text"
      },
      "source": [
        "<a href=\"https://colab.research.google.com/github/IlinaAS/Sem2/blob/main/%D0%97%D0%B0%D0%B4%D0%B0%D0%BD%D0%B8%D0%B5_2(04_04_2023).ipynb\" target=\"_parent\"><img src=\"https://colab.research.google.com/assets/colab-badge.svg\" alt=\"Open In Colab\"/></a>"
      ]
    },
    {
      "cell_type": "code",
      "execution_count": 16,
      "metadata": {
        "colab": {
          "base_uri": "https://localhost:8080/"
        },
        "id": "6oqFyO6l-DpQ",
        "outputId": "bfa42dce-14d3-4672-dd0a-fa203acd7ec1"
      },
      "outputs": [
        {
          "output_type": "stream",
          "name": "stdout",
          "text": [
            "<Трек 1-3 минут>\n",
            "<Трек 2-15 минут>\n",
            "<Трек 3-2 минут>\n",
            "<Длительность альбома №1: 20 минут>\n",
            "<Трек 4-11 минут>\n",
            "<Трек 5-8 минут>\n",
            "<Трек 6-40 минут>\n",
            "<Длительность альбома №2: 59 минут>\n"
          ]
        }
      ],
      "source": [
        "class Track:\n",
        "  def __init__(self, name, time):\n",
        "    self.name = name\n",
        "    self.time = time\n",
        "\n",
        "  def show(self):\n",
        "    print('<' + self.name + '-' + str(self.time) + ' минут>')\n",
        "\n",
        "class Album:\n",
        "  def __init__(self, name, group, tracks):\n",
        "    self.name = name\n",
        "    self.group = group\n",
        "    self.tracks = tracks\n",
        "\n",
        "  def get_tracks(self):\n",
        "    for track in self.tracks:\n",
        "      track.show()\n",
        "  \n",
        "  def add_track(self, track):\n",
        "    self.tracks.append(track)\n",
        "\n",
        "  def get_time(self):\n",
        "    time = 0\n",
        "    for track in self.tracks:\n",
        "      time += track.time\n",
        "    print('<Длительность альбома ' + self.name + ': ' + str(time) + ' минут>')\n",
        "\n",
        "\n",
        "track1 = Track('Трек 1', 3)\n",
        "track2 = Track('Трек 2', 15)\n",
        "track3 = Track('Трек 3', 2)\n",
        "track4 = Track('Трек 4', 11)\n",
        "track5 = Track('Трек 5', 8)\n",
        "track6 = Track('Трек 6', 40)\n",
        "\n",
        "\n",
        "album1 = Album('№1', 'Группа 1', [track1, track2, track3])\n",
        "album2 = Album('№2', 'Группа 2', [track4, track5, track6])\n",
        "\n",
        "album1.get_tracks()\n",
        "album1.get_time()\n",
        "\n",
        "album2.get_tracks()\n",
        "album2.get_time()"
      ]
    }
  ]
}